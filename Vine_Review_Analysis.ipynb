{
  "nbformat": 4,
  "nbformat_minor": 0,
  "metadata": {
    "colab": {
      "name": "Vine_Review_Analysis.ipynb",
      "provenance": [],
      "collapsed_sections": []
    },
    "kernelspec": {
      "name": "python3",
      "display_name": "Python 3"
    },
    "language_info": {
      "name": "python"
    }
  },
  "cells": [
    {
      "cell_type": "code",
      "metadata": {
        "colab": {
          "base_uri": "https://localhost:8080/"
        },
        "id": "_o44L1ttxIQY",
        "outputId": "f7c6c249-2d6e-4d58-cfff-399f8132883a"
      },
      "source": [
        "import os\n",
        "# Find the latest version of spark 2.0  from http://www-us.apache.org/dist/spark/ and enter as the spark version\n",
        "# For example:\n",
        "# spark_version = 'spark-3.0.0'\n",
        "spark_version = 'spark-3.0.2'\n",
        "os.environ['SPARK_VERSION']=spark_version\n",
        "\n",
        "# Install Spark and Java\n",
        "!apt-get update\n",
        "!apt-get install openjdk-11-jdk-headless -qq > /dev/null\n",
        "!wget -q http://www-us.apache.org/dist/spark/$SPARK_VERSION/$SPARK_VERSION-bin-hadoop2.7.tgz\n",
        "!tar xf $SPARK_VERSION-bin-hadoop2.7.tgz\n",
        "!pip install -q findspark\n",
        "\n",
        "# Set Environment Variables\n",
        "import os\n",
        "os.environ[\"JAVA_HOME\"] = \"/usr/lib/jvm/java-11-openjdk-amd64\"\n",
        "os.environ[\"SPARK_HOME\"] = f\"/content/{spark_version}-bin-hadoop2.7\"\n",
        "\n",
        "# Start a SparkSession\n",
        "import findspark\n",
        "findspark.init()"
      ],
      "execution_count": 4,
      "outputs": [
        {
          "output_type": "stream",
          "text": [
            "\r0% [Working]\r            \rGet:1 https://cloud.r-project.org/bin/linux/ubuntu bionic-cran40/ InRelease [3,626 B]\n",
            "\r0% [Connecting to archive.ubuntu.com (91.189.88.142)] [Connecting to security.u\r0% [Connecting to archive.ubuntu.com (91.189.88.142)] [Connecting to security.u\r0% [1 InRelease gpgv 3,626 B] [Connecting to archive.ubuntu.com (91.189.88.142)\r                                                                               \rIgn:2 https://developer.download.nvidia.com/compute/cuda/repos/ubuntu1804/x86_64  InRelease\n",
            "\r0% [1 InRelease gpgv 3,626 B] [Waiting for headers] [Waiting for headers] [Wait\r                                                                               \rHit:3 http://archive.ubuntu.com/ubuntu bionic InRelease\n",
            "\r                                                                               \rGet:4 http://security.ubuntu.com/ubuntu bionic-security InRelease [88.7 kB]\n",
            "\r0% [1 InRelease gpgv 3,626 B] [Waiting for headers] [4 InRelease 14.2 kB/88.7 k\r                                                                               \rGet:5 http://ppa.launchpad.net/c2d4u.team/c2d4u4.0+/ubuntu bionic InRelease [15.9 kB]\n",
            "\r0% [1 InRelease gpgv 3,626 B] [Waiting for headers] [4 InRelease 14.2 kB/88.7 k\r                                                                               \rIgn:6 https://developer.download.nvidia.com/compute/machine-learning/repos/ubuntu1804/x86_64  InRelease\n",
            "\r0% [1 InRelease gpgv 3,626 B] [Waiting for headers] [4 InRelease 14.2 kB/88.7 k\r                                                                               \rHit:7 https://developer.download.nvidia.com/compute/cuda/repos/ubuntu1804/x86_64  Release\n",
            "Hit:8 https://developer.download.nvidia.com/compute/machine-learning/repos/ubuntu1804/x86_64  Release\n",
            "Get:9 http://archive.ubuntu.com/ubuntu bionic-updates InRelease [88.7 kB]\n",
            "Hit:10 http://ppa.launchpad.net/cran/libgit2/ubuntu bionic InRelease\n",
            "Get:11 http://archive.ubuntu.com/ubuntu bionic-backports InRelease [74.6 kB]\n",
            "Hit:12 http://ppa.launchpad.net/deadsnakes/ppa/ubuntu bionic InRelease\n",
            "Get:13 http://ppa.launchpad.net/graphics-drivers/ppa/ubuntu bionic InRelease [21.3 kB]\n",
            "Get:16 http://ppa.launchpad.net/c2d4u.team/c2d4u4.0+/ubuntu bionic/main Sources [1,749 kB]\n",
            "Get:17 http://security.ubuntu.com/ubuntu bionic-security/universe amd64 Packages [1,402 kB]\n",
            "Get:18 http://security.ubuntu.com/ubuntu bionic-security/main amd64 Packages [2,045 kB]\n",
            "Get:19 http://archive.ubuntu.com/ubuntu bionic-updates/universe amd64 Packages [2,170 kB]\n",
            "Get:20 http://security.ubuntu.com/ubuntu bionic-security/restricted amd64 Packages [348 kB]\n",
            "Get:21 http://ppa.launchpad.net/c2d4u.team/c2d4u4.0+/ubuntu bionic/main amd64 Packages [895 kB]\n",
            "Get:22 http://archive.ubuntu.com/ubuntu bionic-updates/main amd64 Packages [2,475 kB]\n",
            "Get:23 http://archive.ubuntu.com/ubuntu bionic-updates/restricted amd64 Packages [378 kB]\n",
            "Get:24 http://ppa.launchpad.net/graphics-drivers/ppa/ubuntu bionic/main amd64 Packages [49.4 kB]\n",
            "Fetched 11.8 MB in 3s (3,639 kB/s)\n",
            "Reading package lists... Done\n"
          ],
          "name": "stdout"
        }
      ]
    },
    {
      "cell_type": "code",
      "metadata": {
        "colab": {
          "base_uri": "https://localhost:8080/"
        },
        "id": "fE8u-YqKBxSy",
        "outputId": "8c6d91fd-1ba6-40b4-e208-8fbd06607402"
      },
      "source": [
        "# Download the Postgres driver that will allow Spark to interact with Postgres.\n",
        "!wget https://jdbc.postgresql.org/download/postgresql-42.2.16.jar"
      ],
      "execution_count": 6,
      "outputs": [
        {
          "output_type": "stream",
          "text": [
            "--2021-03-29 02:52:50--  https://jdbc.postgresql.org/download/postgresql-42.2.16.jar\n",
            "Resolving jdbc.postgresql.org (jdbc.postgresql.org)... 72.32.157.228, 2001:4800:3e1:1::228\n",
            "Connecting to jdbc.postgresql.org (jdbc.postgresql.org)|72.32.157.228|:443... connected.\n",
            "HTTP request sent, awaiting response... 200 OK\n",
            "Length: 1002883 (979K) [application/java-archive]\n",
            "Saving to: ‘postgresql-42.2.16.jar’\n",
            "\n",
            "postgresql-42.2.16. 100%[===================>] 979.38K  5.75MB/s    in 0.2s    \n",
            "\n",
            "2021-03-29 02:52:51 (5.75 MB/s) - ‘postgresql-42.2.16.jar’ saved [1002883/1002883]\n",
            "\n"
          ],
          "name": "stdout"
        }
      ]
    },
    {
      "cell_type": "code",
      "metadata": {
        "id": "im_t3cQhB5u3"
      },
      "source": [
        "from pyspark.sql import SparkSession\n",
        "spark = SparkSession.builder.appName(\"BigData-Challenge\").config(\"spark.driver.extraClassPath\",\"/content/postgresql-42.2.16.jar\").getOrCreate()"
      ],
      "execution_count": 7,
      "outputs": []
    },
    {
      "cell_type": "code",
      "metadata": {
        "colab": {
          "base_uri": "https://localhost:8080/"
        },
        "id": "EARK6XzOB777",
        "outputId": "c5b7146b-be32-4996-cbc3-682b04e23811"
      },
      "source": [
        "from pyspark import SparkFiles\n",
        "url = \"https://s3.amazonaws.com/amazon-reviews-pds/tsv/amazon_reviews_us_Wireless_v1_00.tsv.gz\"\n",
        "#url = \"https://s3.console.aws.amazon.com/s3/object/lc-1st-s3-bucket?region=us-east-1&prefix=vine_table.csv\"\n",
        "\n",
        "spark.sparkContext.addFile(url)\n",
        "df = spark.read.option(\"encoding\", \"UTF-8\").csv(SparkFiles.get(\"\"), sep=\"\\t\", header=True, inferSchema=True)\n",
        "df.show()"
      ],
      "execution_count": 48,
      "outputs": [
        {
          "output_type": "stream",
          "text": [
            "+-----------+-----------+--------------+----------+--------------+--------------------+----------------+-----------+-------------+-----------+----+-----------------+--------------------+--------------------+-----------+\n",
            "|marketplace|customer_id|     review_id|product_id|product_parent|       product_title|product_category|star_rating|helpful_votes|total_votes|vine|verified_purchase|     review_headline|         review_body|review_date|\n",
            "+-----------+-----------+--------------+----------+--------------+--------------------+----------------+-----------+-------------+-----------+----+-----------------+--------------------+--------------------+-----------+\n",
            "|         US|   16414143|R3W4P9UBGNGH1U|B00YL0EKWE|     852431543|LG G4 Case Hard T...|        Wireless|          2|            1|          3|   N|                Y|Looks good, funct...|2 issues  -  Once...| 2015-08-31|\n",
            "|         US|   50800750|R15V54KBMTQWAY|B00XK95RPQ|     516894650|Selfie Stick Fibl...|        Wireless|          4|            0|          0|   N|                N| A fun little gadget|I’m embarrassed t...| 2015-08-31|\n",
            "|         US|   15184378| RY8I449HNXSVF|B00SXRXUKO|     984297154|Tribe AB40 Water ...|        Wireless|          5|            0|          0|   N|                Y|          Five Stars|  Fits iPhone 6 well| 2015-08-31|\n",
            "|         US|   10203548|R18TLJYCKJFLSR|B009V5X1CE|     279912704|RAVPower® Element...|        Wireless|          5|            0|          0|   N|                Y|       Great charger|Great charger.  I...| 2015-08-31|\n",
            "|         US|     488280|R1NK26SWS53B8Q|B00D93OVF0|     662791300|Fosmon Micro USB ...|        Wireless|          5|            0|          0|   N|                Y|          Five Stars|Great for the pri...| 2015-08-31|\n",
            "|         US|   13334021|R11LOHEDYJALTN|B00XVGJMDQ|     421688488|iPhone 6 Case, Vo...|        Wireless|          5|            0|          0|   N|                Y|          Five Stars|Great Case, bette...| 2015-08-31|\n",
            "|         US|   27520697|R3ALQVQB2P9LA7|B00KQW1X1C|     554285554|Nokia Lumia 630 R...|        Wireless|          4|            0|          0|   N|                Y|          Four Stars|Easy to set up an...| 2015-08-31|\n",
            "|         US|   48086021|R3MWLXLNO21PDQ|B00IP1MQNK|     488006702|Lumsing 10400mah ...|        Wireless|          5|            0|          0|   N|                Y|          Five Stars|         Works great| 2015-08-31|\n",
            "|         US|   12738196|R2L15IS24CX0LI|B00HVORET8|     389677711|iPhone 5S Battery...|        Wireless|          5|            0|          0|   N|                Y|      So far so good|So far so good. I...| 2015-08-31|\n",
            "|         US|   15867807|R1DJ8976WPWVZU|B00HX3G6J6|     299654876|HTC One M8 Screen...|        Wireless|          3|            0|          0|   N|                Y|seems durable but...|seems durable but...| 2015-08-31|\n",
            "|         US|    1972249|R3MRWNNR8CBTB7|B00U4NATNQ|     577878727|S6 Case - Bear Mo...|        Wireless|          5|            0|          0|   N|                Y|Super thin, light...|Super thin, light...| 2015-08-31|\n",
            "|         US|   10956619|R1DS6DKTUXAQK3|B00SZEFDH8|     654620704|BLU Studio X, Unl...|        Wireless|          5|            0|          0|   N|                Y|          Five Stars|As good as the Sa...| 2015-08-31|\n",
            "|         US|   14805911| RWJM5E0TWUJD2|B00JRJUL9U|     391166958|EZOPower 5-Port U...|        Wireless|          5|            0|          0|   N|                Y|            EZOPower|I received this o...| 2015-08-31|\n",
            "|         US|   15611116|R1XTJKDYNCRGAC|B00KQ4T0HE|     481551630|iPhone 6S Case &i...|        Wireless|          1|            0|          0|   N|                Y|Very cheap case. ...|Very cheap case. ...| 2015-08-31|\n",
            "|         US|   39298603|R2UZL3DPWEU1XW|B00M0YWKPM|     685107474| iPhone 6s Plus Case|        Wireless|          5|            0|          0|   N|                Y|          Five Stars|       son loves it.| 2015-08-31|\n",
            "|         US|   17552454|R2EZXET9KBFFU3|B00KDZEE68|     148320945|zBoost ZB575-A TR...|        Wireless|          1|            0|          0|   N|                Y|            One Star|you have to turn ...| 2015-08-31|\n",
            "|         US|   12218556|R26VY1L1FD3LPU|B00BJN45GM|      47788188|OtterBox Defender...|        Wireless|          5|            0|          0|   N|                Y|          Five Stars|  Awesome, thank you| 2015-08-31|\n",
            "|         US|   21872923|R2SSA4NSFCV18T|B00SA86SXW|     748759272|Aduro PowerUP 30W...|        Wireless|          5|            0|          0|   N|                N|          Five Stars|         nice, smart| 2015-08-31|\n",
            "|         US|   16264332|R1G6333JHJNEUQ|B00Q3I68TU|     974085141|LilGadgets Connec...|        Wireless|          5|            0|          0|   N|                Y|Great headphones ...|We love these hea...| 2015-08-31|\n",
            "|         US|    6042304|R2DRG0UZXJQ0PE|B00TN4J1TA|     716174627|Anker Aluminum Mu...|        Wireless|          5|            0|          0|   N|                Y|          Five Stars|This is well wort...| 2015-08-31|\n",
            "+-----------+-----------+--------------+----------+--------------+--------------------+----------------+-----------+-------------+-----------+----+-----------------+--------------------+--------------------+-----------+\n",
            "only showing top 20 rows\n",
            "\n"
          ],
          "name": "stdout"
        }
      ]
    },
    {
      "cell_type": "code",
      "metadata": {
        "colab": {
          "base_uri": "https://localhost:8080/"
        },
        "id": "WQspDFMxS_A_",
        "outputId": "a9b661aa-8acd-4a31-9400-2123c35124df"
      },
      "source": [
        "df.dtypes"
      ],
      "execution_count": 49,
      "outputs": [
        {
          "output_type": "execute_result",
          "data": {
            "text/plain": [
              "[('marketplace', 'string'),\n",
              " ('customer_id', 'int'),\n",
              " ('review_id', 'string'),\n",
              " ('product_id', 'string'),\n",
              " ('product_parent', 'int'),\n",
              " ('product_title', 'string'),\n",
              " ('product_category', 'string'),\n",
              " ('star_rating', 'string'),\n",
              " ('helpful_votes', 'int'),\n",
              " ('total_votes', 'int'),\n",
              " ('vine', 'string'),\n",
              " ('verified_purchase', 'string'),\n",
              " ('review_headline', 'string'),\n",
              " ('review_body', 'string'),\n",
              " ('review_date', 'string')]"
            ]
          },
          "metadata": {
            "tags": []
          },
          "execution_count": 49
        }
      ]
    },
    {
      "cell_type": "code",
      "metadata": {
        "colab": {
          "base_uri": "https://localhost:8080/"
        },
        "id": "mwxb6DW8BdwS",
        "outputId": "f495f6d4-b619-4443-dc90-9d68e9191566"
      },
      "source": [
        "# Filter by price on certain columns\n",
        "vote_df=df.filter(df[\"total_votes\"]>=20)\n",
        "vote_df.show(5)"
      ],
      "execution_count": 50,
      "outputs": [
        {
          "output_type": "stream",
          "text": [
            "+-----------+-----------+--------------+----------+--------------+--------------------+----------------+-----------+-------------+-----------+----+-----------------+--------------------+--------------------+-----------+\n",
            "|marketplace|customer_id|     review_id|product_id|product_parent|       product_title|product_category|star_rating|helpful_votes|total_votes|vine|verified_purchase|     review_headline|         review_body|review_date|\n",
            "+-----------+-----------+--------------+----------+--------------+--------------------+----------------+-----------+-------------+-----------+----+-----------------+--------------------+--------------------+-----------+\n",
            "|         US|   44689470|R2WOW0TURNXB26|B00YY3UBV2|     310491927|            Garmin 1|        Wireless|          3|           54|         59|   N|                Y|Pretty Disappoint...|Bought this unit ...| 2015-08-31|\n",
            "|         US|     112342|R13VL62Y2HBQ0B|B010VFZJD6|     129632031|iTaste MVP3 PRO -...|        Wireless|          5|           15|         21|   N|                Y|   Excellent battery|I love my Mvp pro...| 2015-08-31|\n",
            "|         US|   13557708|R22G55KAPZKJQV|B00C8S8S4W|     998105706|SPOT 3 Satellite ...|        Wireless|          4|           20|         21|   N|                Y|Great but buy the...|My mom made me pu...| 2015-08-31|\n",
            "|         US|    3346419|R1610PGTJS7G3N|B011I4XMXS|     431799284|   Ausdom Dash cam 1|        Wireless|          2|           28|         44|   N|                Y| Pretty dissapointed|I was hoping for ...| 2015-08-31|\n",
            "|         US|   46029442| RLQL04BL0QXOJ|B00OSTKZWM|     736471392|RCA 5.5-Inch Quad...|        Wireless|          4|           45|         47|   N|                Y|Tried many... Thi...|I had been lookin...| 2015-08-31|\n",
            "+-----------+-----------+--------------+----------+--------------+--------------------+----------------+-----------+-------------+-----------+----+-----------------+--------------------+--------------------+-----------+\n",
            "only showing top 5 rows\n",
            "\n"
          ],
          "name": "stdout"
        }
      ]
    },
    {
      "cell_type": "code",
      "metadata": {
        "colab": {
          "base_uri": "https://localhost:8080/"
        },
        "id": "QbyM63GYUnhK",
        "outputId": "5ff9f98b-2536-4139-df9b-5e86e0dba7c6"
      },
      "source": [
        "vote_df.dtypes"
      ],
      "execution_count": 51,
      "outputs": [
        {
          "output_type": "execute_result",
          "data": {
            "text/plain": [
              "[('marketplace', 'string'),\n",
              " ('customer_id', 'int'),\n",
              " ('review_id', 'string'),\n",
              " ('product_id', 'string'),\n",
              " ('product_parent', 'int'),\n",
              " ('product_title', 'string'),\n",
              " ('product_category', 'string'),\n",
              " ('star_rating', 'string'),\n",
              " ('helpful_votes', 'int'),\n",
              " ('total_votes', 'int'),\n",
              " ('vine', 'string'),\n",
              " ('verified_purchase', 'string'),\n",
              " ('review_headline', 'string'),\n",
              " ('review_body', 'string'),\n",
              " ('review_date', 'string')]"
            ]
          },
          "metadata": {
            "tags": []
          },
          "execution_count": 51
        }
      ]
    },
    {
      "cell_type": "code",
      "metadata": {
        "colab": {
          "base_uri": "https://localhost:8080/"
        },
        "id": "JoRKEaxNCTQi",
        "outputId": "731c6274-fe3a-47f4-98f5-9e2044ed1a1c"
      },
      "source": [
        "# retrieve all the rows where the number of helpful_votes divided by total_votes is equal to or greater than 50%\n",
        "helpful_vote_df=vote_df.filter(vote_df[\"helpful_votes\"]/vote_df[\"total_votes\"]>=0.5)\n",
        "helpful_vote_df.show(5)\n",
        "#helpful_vote_df=vote_df.filter()"
      ],
      "execution_count": 52,
      "outputs": [
        {
          "output_type": "stream",
          "text": [
            "+-----------+-----------+--------------+----------+--------------+--------------------+----------------+-----------+-------------+-----------+----+-----------------+--------------------+--------------------+-----------+\n",
            "|marketplace|customer_id|     review_id|product_id|product_parent|       product_title|product_category|star_rating|helpful_votes|total_votes|vine|verified_purchase|     review_headline|         review_body|review_date|\n",
            "+-----------+-----------+--------------+----------+--------------+--------------------+----------------+-----------+-------------+-----------+----+-----------------+--------------------+--------------------+-----------+\n",
            "|         US|   44689470|R2WOW0TURNXB26|B00YY3UBV2|     310491927|            Garmin 1|        Wireless|          3|           54|         59|   N|                Y|Pretty Disappoint...|Bought this unit ...| 2015-08-31|\n",
            "|         US|     112342|R13VL62Y2HBQ0B|B010VFZJD6|     129632031|iTaste MVP3 PRO -...|        Wireless|          5|           15|         21|   N|                Y|   Excellent battery|I love my Mvp pro...| 2015-08-31|\n",
            "|         US|   13557708|R22G55KAPZKJQV|B00C8S8S4W|     998105706|SPOT 3 Satellite ...|        Wireless|          4|           20|         21|   N|                Y|Great but buy the...|My mom made me pu...| 2015-08-31|\n",
            "|         US|    3346419|R1610PGTJS7G3N|B011I4XMXS|     431799284|   Ausdom Dash cam 1|        Wireless|          2|           28|         44|   N|                Y| Pretty dissapointed|I was hoping for ...| 2015-08-31|\n",
            "|         US|   46029442| RLQL04BL0QXOJ|B00OSTKZWM|     736471392|RCA 5.5-Inch Quad...|        Wireless|          4|           45|         47|   N|                Y|Tried many... Thi...|I had been lookin...| 2015-08-31|\n",
            "+-----------+-----------+--------------+----------+--------------+--------------------+----------------+-----------+-------------+-----------+----+-----------------+--------------------+--------------------+-----------+\n",
            "only showing top 5 rows\n",
            "\n"
          ],
          "name": "stdout"
        }
      ]
    },
    {
      "cell_type": "code",
      "metadata": {
        "colab": {
          "base_uri": "https://localhost:8080/"
        },
        "id": "A9osls8FC9y1",
        "outputId": "a2f81de3-0bda-49da-edac-70b57341743f"
      },
      "source": [
        "# Filter on Vine==N\n",
        "n_vine_df=helpful_vote_df.filter(helpful_vote_df[\"vine\"] == \"N\")\n",
        "n_vine_df.show(5)"
      ],
      "execution_count": 53,
      "outputs": [
        {
          "output_type": "stream",
          "text": [
            "+-----------+-----------+--------------+----------+--------------+--------------------+----------------+-----------+-------------+-----------+----+-----------------+--------------------+--------------------+-----------+\n",
            "|marketplace|customer_id|     review_id|product_id|product_parent|       product_title|product_category|star_rating|helpful_votes|total_votes|vine|verified_purchase|     review_headline|         review_body|review_date|\n",
            "+-----------+-----------+--------------+----------+--------------+--------------------+----------------+-----------+-------------+-----------+----+-----------------+--------------------+--------------------+-----------+\n",
            "|         US|   44689470|R2WOW0TURNXB26|B00YY3UBV2|     310491927|            Garmin 1|        Wireless|          3|           54|         59|   N|                Y|Pretty Disappoint...|Bought this unit ...| 2015-08-31|\n",
            "|         US|     112342|R13VL62Y2HBQ0B|B010VFZJD6|     129632031|iTaste MVP3 PRO -...|        Wireless|          5|           15|         21|   N|                Y|   Excellent battery|I love my Mvp pro...| 2015-08-31|\n",
            "|         US|   13557708|R22G55KAPZKJQV|B00C8S8S4W|     998105706|SPOT 3 Satellite ...|        Wireless|          4|           20|         21|   N|                Y|Great but buy the...|My mom made me pu...| 2015-08-31|\n",
            "|         US|    3346419|R1610PGTJS7G3N|B011I4XMXS|     431799284|   Ausdom Dash cam 1|        Wireless|          2|           28|         44|   N|                Y| Pretty dissapointed|I was hoping for ...| 2015-08-31|\n",
            "|         US|   46029442| RLQL04BL0QXOJ|B00OSTKZWM|     736471392|RCA 5.5-Inch Quad...|        Wireless|          4|           45|         47|   N|                Y|Tried many... Thi...|I had been lookin...| 2015-08-31|\n",
            "+-----------+-----------+--------------+----------+--------------+--------------------+----------------+-----------+-------------+-----------+----+-----------------+--------------------+--------------------+-----------+\n",
            "only showing top 5 rows\n",
            "\n"
          ],
          "name": "stdout"
        }
      ]
    },
    {
      "cell_type": "code",
      "metadata": {
        "colab": {
          "base_uri": "https://localhost:8080/"
        },
        "id": "MdSNeCK0C9_A",
        "outputId": "02a6ec19-efc7-4d6e-82c6-f18c48305ce9"
      },
      "source": [
        "# Filter on Vine==Y\n",
        "y_vine_df=helpful_vote_df.filter(helpful_vote_df[\"vine\"] == \"Y\")\n",
        "y_vine_df.show()"
      ],
      "execution_count": 56,
      "outputs": [
        {
          "output_type": "stream",
          "text": [
            "+-----------+-----------+--------------+----------+--------------+--------------------+----------------+-----------+-------------+-----------+----+-----------------+--------------------+--------------------+-----------+\n",
            "|marketplace|customer_id|     review_id|product_id|product_parent|       product_title|product_category|star_rating|helpful_votes|total_votes|vine|verified_purchase|     review_headline|         review_body|review_date|\n",
            "+-----------+-----------+--------------+----------+--------------+--------------------+----------------+-----------+-------------+-----------+----+-----------------+--------------------+--------------------+-----------+\n",
            "|         US|   48852155|R1MAOLI5FJHAFM|B013X0V11K|     610966690|BLU Studio 7.0 ll...|        Wireless|          4|          249|        261|   Y|                N|More than just a ...|Ever since the ve...| 2015-08-31|\n",
            "|         US|   11556116| R9PYAUDIBJVEC|B013X0V4VM|     672788343|BLU Studio C Supe...|        Wireless|          4|           12|         22|   Y|                N|Large clear scree...|I picked this pho...| 2015-08-30|\n",
            "|         US|   46671309| R6V9SHMMG5M8F|B013X0V11K|     610966690|BLU Studio 7.0 ll...|        Wireless|          5|          101|        110|   Y|                N|  Very good Phablet!|I remember the da...| 2015-08-30|\n",
            "|         US|   49598970|R37PVLT6ELL5J4|B011HT9AL2|     557568833|Tile (Gen 2) - Ph...|        Wireless|          4|          181|        209|   Y|                N|This low-cost tra...|I was initially s...| 2015-08-28|\n",
            "|         US|   52057325| R2FSFGWZF24V9|B0129T0XXS|     592405023|BLU Studio C 5+5 ...|        Wireless|          4|           50|         51|   Y|                N|Great phone for a...|I am a TOTAL Ludd...| 2015-08-24|\n",
            "|         US|   53019847|R3SRW1E8J56IGV|B0129TQLPW|     226174255|BLU Energy X Plus...|        Wireless|          5|          262|        281|   Y|                N|A bang for the bu...|The BLU Energy X ...| 2015-08-16|\n",
            "|         US|   31302915| R86Z11D4CWOFM|B0129T0XXS|     592405023|BLU Studio C 5+5 ...|        Wireless|          4|           32|         36|   Y|                N|Not as pictured, ...|First off, the ph...| 2015-08-16|\n",
            "|         US|   50885906| RNP01HW9YISJO|B00W7S34HY|     920588860|Optrix  Waterproo...|        Wireless|          4|           20|         23|   Y|                N|A high quality, c...|Prior to using th...| 2015-08-15|\n",
            "|         US|   49110251|R3KLACA6LCDZ0S|B00W75BKQ4|     566439653|Motorola T460 Rec...|        Wireless|          3|           21|         22|   Y|                N|Good feature set ...|In an age of cell...| 2015-08-15|\n",
            "|         US|   50125011| RZEQYOT2RE0N7|B0129T0XXS|     592405023|BLU Studio C 5+5 ...|        Wireless|          4|           75|         80|   Y|                N|BLU Studio C 5+5 ...|Amazingly easy to...| 2015-08-14|\n",
            "|         US|   39749647|R2WBPX441TH495|B0129TQLPW|     226174255|BLU Energy X Plus...|        Wireless|          5|          202|        221|   Y|                N|       Great Phone!!|My main interest ...| 2015-08-13|\n",
            "|         US|   53058973|R2BYBSYHS66ZN8|B0129T0XXS|     592405023|BLU Studio C 5+5 ...|        Wireless|          5|          109|        114|   Y|                N|Simplicity, Quali...|The word &#34;che...| 2015-08-12|\n",
            "|         US|   12537483|R3IF59PJGCNU3Q|B011YNPPME|     242359747|BLU Vivo Selfie S...|        Wireless|          4|           42|         54|   Y|                N|Fun & Cheap Phone...|The BLUE Vivo Sel...| 2015-08-12|\n",
            "|         US|   35304626|R2IXC6U7W4OCQ9|B0129TQLPW|     226174255|BLU Energy X Plus...|        Wireless|          5|          185|        201|   Y|                N|This is our secon...|This is our secon...| 2015-08-11|\n",
            "|         US|   30057302|R1JEI3H9QRP6PH|B011YNPPME|     242359747|BLU Vivo Selfie S...|        Wireless|          5|           15|         22|   Y|                N|   What a Bargain!!!|We have been an i...| 2015-08-10|\n",
            "|         US|   52109863|R37L3KGRRR6JTL|B00MCJ4CKG|      91423181|Recon Jet Heads U...|        Wireless|          3|           38|         47|   Y|                N|       Has potential|I was quite excit...| 2015-08-05|\n",
            "|         US|   43791073|R1YJ7OKAEML92P|B00TYTBHKU|     399571814|OtterBox Symmetry...|        Wireless|          5|           20|         22|   Y|                N|Saved my phone as...|I will blame the ...| 2015-07-31|\n",
            "|         US|   50441881|R3JZJOD2512UVY|B0102OM1IC|     845336843|Sony Xperia M4 Aq...|        Wireless|          4|           85|        101|   Y|                N|First time Androi...|This is my first ...| 2015-07-19|\n",
            "|         US|   52591230|R38MY3TK17MXDH|B00N9E6DUK|     272244000|JAWBONE UP3 Activ...|        Wireless|          4|           25|         32|   Y|                N|In-depth review a...|UPDATE, four star...| 2015-07-18|\n",
            "|         US|   52594065|R2LWISZ4DSM0I4|B0102OM1IC|     845336843|Sony Xperia M4 Aq...|        Wireless|          5|           28|         33|   Y|                N|Sony Xperia M4 Aq...|Update 10/12/2016...| 2015-07-17|\n",
            "+-----------+-----------+--------------+----------+--------------+--------------------+----------------+-----------+-------------+-----------+----+-----------------+--------------------+--------------------+-----------+\n",
            "only showing top 20 rows\n",
            "\n"
          ],
          "name": "stdout"
        }
      ]
    },
    {
      "cell_type": "code",
      "metadata": {
        "colab": {
          "base_uri": "https://localhost:8080/"
        },
        "id": "FrxSCRrsv03p",
        "outputId": "efe37622-84d4-45f3-fcd6-be05742cf78b"
      },
      "source": [
        "#Calc the total number of vine reviews\n",
        "y_vine_total=y_vine_df.groupby(\"vine\").agg({\"customer_id\":\"count\"}).withColumnRenamed(\"count(customer_id)\", \"review\")\n",
        "y_vine_total.show()"
      ],
      "execution_count": 57,
      "outputs": [
        {
          "output_type": "stream",
          "text": [
            "+----+------+\n",
            "|vine|review|\n",
            "+----+------+\n",
            "|   Y|   613|\n",
            "+----+------+\n",
            "\n"
          ],
          "name": "stdout"
        }
      ]
    },
    {
      "cell_type": "code",
      "metadata": {
        "colab": {
          "base_uri": "https://localhost:8080/"
        },
        "id": "gcfSmatmwibF",
        "outputId": "62b161f9-ebca-4493-f0af-93c0a2eed985"
      },
      "source": [
        "#Calc the total number of non-vine reviews\n",
        "n_vine_total=n_vine_df.groupby(\"vine\").agg({\"customer_id\":\"count\"}).withColumnRenamed(\"count(customer_id)\", \"review\")\n",
        "n_vine_total.show()"
      ],
      "execution_count": 75,
      "outputs": [
        {
          "output_type": "stream",
          "text": [
            "+----+------+\n",
            "|vine|review|\n",
            "+----+------+\n",
            "|   N| 64968|\n",
            "+----+------+\n",
            "\n"
          ],
          "name": "stdout"
        }
      ]
    },
    {
      "cell_type": "code",
      "metadata": {
        "id": "ouY23skU3Cw9"
      },
      "source": [
        "n_vine_total.dtypes"
      ],
      "execution_count": null,
      "outputs": []
    },
    {
      "cell_type": "code",
      "metadata": {
        "colab": {
          "base_uri": "https://localhost:8080/"
        },
        "id": "C6PV87cnw2Av",
        "outputId": "25d6d9d7-4ec2-4cb9-f333-f8cce7f4e8f3"
      },
      "source": [
        "#Create df for 5 star vine reviews\n",
        "y_5_vine_total=y_vine_df.filter(y_vine_df[\"star_rating\"]==\"5\")\n",
        "y_5_vine_total.show(5)"
      ],
      "execution_count": 82,
      "outputs": [
        {
          "output_type": "stream",
          "text": [
            "+-----------+-----------+--------------+----------+--------------+--------------------+----------------+-----------+-------------+-----------+----+-----------------+--------------------+--------------------+-----------+\n",
            "|marketplace|customer_id|     review_id|product_id|product_parent|       product_title|product_category|star_rating|helpful_votes|total_votes|vine|verified_purchase|     review_headline|         review_body|review_date|\n",
            "+-----------+-----------+--------------+----------+--------------+--------------------+----------------+-----------+-------------+-----------+----+-----------------+--------------------+--------------------+-----------+\n",
            "|         US|   46671309| R6V9SHMMG5M8F|B013X0V11K|     610966690|BLU Studio 7.0 ll...|        Wireless|          5|          101|        110|   Y|                N|  Very good Phablet!|I remember the da...| 2015-08-30|\n",
            "|         US|   53019847|R3SRW1E8J56IGV|B0129TQLPW|     226174255|BLU Energy X Plus...|        Wireless|          5|          262|        281|   Y|                N|A bang for the bu...|The BLU Energy X ...| 2015-08-16|\n",
            "|         US|   39749647|R2WBPX441TH495|B0129TQLPW|     226174255|BLU Energy X Plus...|        Wireless|          5|          202|        221|   Y|                N|       Great Phone!!|My main interest ...| 2015-08-13|\n",
            "|         US|   53058973|R2BYBSYHS66ZN8|B0129T0XXS|     592405023|BLU Studio C 5+5 ...|        Wireless|          5|          109|        114|   Y|                N|Simplicity, Quali...|The word &#34;che...| 2015-08-12|\n",
            "|         US|   35304626|R2IXC6U7W4OCQ9|B0129TQLPW|     226174255|BLU Energy X Plus...|        Wireless|          5|          185|        201|   Y|                N|This is our secon...|This is our secon...| 2015-08-11|\n",
            "+-----------+-----------+--------------+----------+--------------+--------------------+----------------+-----------+-------------+-----------+----+-----------------+--------------------+--------------------+-----------+\n",
            "only showing top 5 rows\n",
            "\n"
          ],
          "name": "stdout"
        }
      ]
    },
    {
      "cell_type": "code",
      "metadata": {
        "colab": {
          "base_uri": "https://localhost:8080/"
        },
        "id": "hJVMtJnKx-mM",
        "outputId": "20a92993-9636-4152-a743-8aa4f85342af"
      },
      "source": [
        "#Create df for 5 star non-vine reviews\n",
        "n_5_vine_total=n_vine_df.filter(n_vine_df[\"star_rating\"]==\"5\")\n",
        "n_5_vine_total.show(5)"
      ],
      "execution_count": 61,
      "outputs": [
        {
          "output_type": "stream",
          "text": [
            "+-----------+-----------+--------------+----------+--------------+--------------------+----------------+-----------+-------------+-----------+----+-----------------+--------------------+--------------------+-----------+\n",
            "|marketplace|customer_id|     review_id|product_id|product_parent|       product_title|product_category|star_rating|helpful_votes|total_votes|vine|verified_purchase|     review_headline|         review_body|review_date|\n",
            "+-----------+-----------+--------------+----------+--------------+--------------------+----------------+-----------+-------------+-----------+----+-----------------+--------------------+--------------------+-----------+\n",
            "|         US|     112342|R13VL62Y2HBQ0B|B010VFZJD6|     129632031|iTaste MVP3 PRO -...|        Wireless|          5|           15|         21|   N|                Y|   Excellent battery|I love my Mvp pro...| 2015-08-31|\n",
            "|         US|   22953177|R111DJA10Y6CMU|B013BHLU66|     396362963|Waterproof Case f...|        Wireless|          5|           26|         39|   N|                Y|Great Value - Goo...|First, I will say...| 2015-08-31|\n",
            "|         US|   16980808|R2EE2TR4MRDV0U|B00Y1Z87UU|     956867660|IBESTWIN Li-ion R...|        Wireless|          5|           53|         59|   N|                Y|Does it get any b...|A great battery f...| 2015-08-31|\n",
            "|         US|   37339397| RD4A80I5JDHED|B00UY29N8Y|     384094161|IncrediSonic M700...|        Wireless|          5|           69|         77|   N|                N|        Virtual Fun!|I was a bit skept...| 2015-08-31|\n",
            "|         US|   35621482|R1D3NR5GREEXXJ|B013F8C9X4|     561786475|Galaxy Note 5 Cas...|        Wireless|          5|           57|         58|   N|                Y|Great case for a ...|I've been a big f...| 2015-08-31|\n",
            "|         US|   44137838|R2WYKBQS8OR08O|B010GYYSU2|     518226514|Z-Edge 2.4- inch ...|        Wireless|          5|          168|        176|   N|                Y|  PERFECT DASH CAM !|I returned my gar...| 2015-08-31|\n",
            "|         US|   11179629|R3DL0Y1KWYLD5X|B010LXUQNG|     179041214|iPhone 6 Case, Lo...|        Wireless|          5|           36|         37|   N|                Y|You won't be disa...|Let me just say f...| 2015-08-31|\n",
            "|         US|   21851130|R3EGDTFDMCOOG4|B010MP3K0O|     868762206|Jackery Titan Por...|        Wireless|          5|           74|         90|   N|                N|Jackery Titan 180...|I was sent this J...| 2015-08-31|\n",
            "|         US|   14971124|R1KEP1DUJK2LD5|B00UH3L82Y|     792159590|Armorsuit - Apple...|        Wireless|          5|           34|         42|   N|                Y|          GREAT!!!!!|I thought I had r...| 2015-08-31|\n",
            "|         US|   39442138| R6IEQ9100RX0O|B010R8CE4O|     782031320|Ringke [FUSION] i...|        Wireless|          5|           49|         57|   N|                Y|This is a pretty ...|This is a pretty ...| 2015-08-31|\n",
            "|         US|   20894873|R2X6SBELMJP4PH|B0128X76LC|     473809134|2 Pack PowerJive®...|        Wireless|          5|           27|         34|   N|                N|Just as good as t...|The PowerJive blo...| 2015-08-31|\n",
            "|         US|   49523782|R1SFITLRSE3K7T|B013JRQR5M|     901946285|KPTEC Mini Displa...|        Wireless|          5|           20|         23|   N|                Y|(live video test)...|[[VIDEOID:f8ef8c6...| 2015-08-31|\n",
            "|         US|    2937993|R1EZ878XMIT67K|B010MP3K0O|     868762206|Jackery Titan Por...|        Wireless|          5|           29|         35|   N|                N|The BEST Portable...|We've been using ...| 2015-08-31|\n",
            "|         US|   50977209|R359PHUFU7ZTXV|B010G43VAU|     338621307|Fuse Chicken Tita...|        Wireless|          5|           68|         72|   N|                N|           Redeemed!|I'm fine with thi...| 2015-08-31|\n",
            "|         US|   10726979|R1H2OA4AKOW67K|B012T4JBDQ|     200080355|Karnotech Battery...|        Wireless|          5|           26|         29|   N|                N|Take selfies anyw...|This mini selfie ...| 2015-08-31|\n",
            "|         US|   30337045|R3VM9PM5RHZW3C|B0133Z8U28|     276707711|Apple Watch Band,...|        Wireless|          5|           93|         98|   N|                Y|Happy wife happy ...|I purchased as a ...| 2015-08-31|\n",
            "|         US|    3048348|R1RNG6Q1ZQDX7Q|B00HZA6DPO|     655976462| BOSS Audio Products|        Wireless|          5|           76|         86|   N|                N|Anyone know if it...|Not sure if this ...| 2015-08-31|\n",
            "|         US|   16588078|R1C1KRLWE6YJMY|B00JH88D1O|     695941320|Spigen Ultra Hybr...|        Wireless|          5|           49|         51|   N|                Y|Protection and Be...|I upgraded from a...| 2015-08-31|\n",
            "|         US|   13690981| RMAAUEPV7VC18|B010LFISKW|     943093606|Pyle PLDN63BT Dou...|        Wireless|          5|           22|         30|   N|                N|AWESOME stereo, l...|[[VIDEOID:543e99d...| 2015-08-31|\n",
            "|         US|   51799697|R1QE0XSV1EKPLC|B0132XCT0U|      78607332|Galaxy Note 5 Scr...|        Wireless|          5|           22|         26|   N|                Y|        Recommended!|I couldn't be mor...| 2015-08-31|\n",
            "+-----------+-----------+--------------+----------+--------------+--------------------+----------------+-----------+-------------+-----------+----+-----------------+--------------------+--------------------+-----------+\n",
            "only showing top 20 rows\n",
            "\n"
          ],
          "name": "stdout"
        }
      ]
    },
    {
      "cell_type": "code",
      "metadata": {
        "colab": {
          "base_uri": "https://localhost:8080/"
        },
        "id": "TjTMyFPwx4cX",
        "outputId": "9341813b-7c84-4cfc-9e08-90e3a85a6ba9"
      },
      "source": [
        "#Calc the total number of 5 star vine reviews\n",
        "y_5_vine_total_sum=y_5_vine_total.groupby(\"vine\").agg({\"customer_id\":\"count\"}).withColumnRenamed(\"count(customer_id)\", \"5_star_review\")\n",
        "y_5_vine_total_sum.show()"
      ],
      "execution_count": 70,
      "outputs": [
        {
          "output_type": "stream",
          "text": [
            "+----+-------------+\n",
            "|vine|5_star_review|\n",
            "+----+-------------+\n",
            "|   Y|          222|\n",
            "+----+-------------+\n",
            "\n"
          ],
          "name": "stdout"
        }
      ]
    },
    {
      "cell_type": "code",
      "metadata": {
        "colab": {
          "base_uri": "https://localhost:8080/"
        },
        "id": "PiQh7bQWDBiX",
        "outputId": "2f7c202a-2e9f-448b-f96c-ce24c6d63430"
      },
      "source": [
        "vine_df=vine_df.withColumn(\"star_rating\",vine_df[\"star_rating\"].cast('Integer'))\n",
        "\n",
        "y_5_vine_total_sum.dtypes"
      ],
      "execution_count": 81,
      "outputs": [
        {
          "output_type": "execute_result",
          "data": {
            "text/plain": [
              "[('vine', 'string'), ('5_star_review', 'bigint')]"
            ]
          },
          "metadata": {
            "tags": []
          },
          "execution_count": 81
        }
      ]
    },
    {
      "cell_type": "code",
      "metadata": {
        "colab": {
          "base_uri": "https://localhost:8080/"
        },
        "id": "aEZBkhnnDrTM",
        "outputId": "4b7c5a82-c6a2-42c4-9f37-dc8796bcac8b"
      },
      "source": [
        "print(y_vine_total[\"review\"][0])"
      ],
      "execution_count": 89,
      "outputs": [
        {
          "output_type": "stream",
          "text": [
            "Column<b'review[0]'>\n"
          ],
          "name": "stdout"
        }
      ]
    },
    {
      "cell_type": "code",
      "metadata": {
        "colab": {
          "base_uri": "https://localhost:8080/"
        },
        "id": "kEUzH6pT0jbd",
        "outputId": "742bfcfb-5cf2-412b-dde3-912479c429b9"
      },
      "source": [
        "#Add percentage of 5 star view for Vine Review\n",
        "#y_5_vine_total_sum=y_5_vine_total_sum.withColumn(\"% of 5 Star Review\",(y_5_vine_total_sum[\"5_star_review\"]/y_vine_total[\"review\"]))\n",
        "y_5_vine_total_sum=y_5_vine_total_sum.withColumn(\"% of 5 Star Review\",(y_5_vine_total_sum[\"5_star_review\"]/613*100))\n",
        "y_5_vine_total_sum.show()"
      ],
      "execution_count": 90,
      "outputs": [
        {
          "output_type": "stream",
          "text": [
            "+----+-------------+------------------+\n",
            "|vine|5_star_review|% of 5 Star Review|\n",
            "+----+-------------+------------------+\n",
            "|   Y|          222|36.215334420880914|\n",
            "+----+-------------+------------------+\n",
            "\n"
          ],
          "name": "stdout"
        }
      ]
    },
    {
      "cell_type": "code",
      "metadata": {
        "colab": {
          "base_uri": "https://localhost:8080/"
        },
        "id": "-_H2x0n7w2QB",
        "outputId": "3d771786-89d6-40ab-ad87-14ddff81c80a"
      },
      "source": [
        "#Calc the total number of 5 star non-vine reviews\n",
        "n_5_vine_total_sum=n_5_vine_total.groupby(\"vine\").agg({\"customer_id\":\"count\"}).withColumnRenamed(\"count(customer_id)\", \"5_star_review\")\n",
        "n_5_vine_total_sum.show()"
      ],
      "execution_count": 66,
      "outputs": [
        {
          "output_type": "stream",
          "text": [
            "+----+-------------+\n",
            "|vine|5_star_review|\n",
            "+----+-------------+\n",
            "|   N|        30543|\n",
            "+----+-------------+\n",
            "\n"
          ],
          "name": "stdout"
        }
      ]
    },
    {
      "cell_type": "code",
      "metadata": {
        "colab": {
          "base_uri": "https://localhost:8080/"
        },
        "id": "dafh_bf70uFK",
        "outputId": "95706dc0-3f8a-4bca-a6c6-353972f4b098"
      },
      "source": [
        "#Add percentage of 5 star view for non-Vine Review\n",
        "n_5_vine_total_sum=n_5_vine_total_sum.withColumn(\"% of 5 Star Review\",(n_5_vine_total_sum[\"5_star_review\"]/64968*100))\n",
        "n_5_vine_total_sum.show()"
      ],
      "execution_count": 91,
      "outputs": [
        {
          "output_type": "stream",
          "text": [
            "+----+-------------+------------------+\n",
            "|vine|5_star_review|% of 5 Star Review|\n",
            "+----+-------------+------------------+\n",
            "|   N|        30543| 47.01237532323606|\n",
            "+----+-------------+------------------+\n",
            "\n"
          ],
          "name": "stdout"
        }
      ]
    }
  ]
}